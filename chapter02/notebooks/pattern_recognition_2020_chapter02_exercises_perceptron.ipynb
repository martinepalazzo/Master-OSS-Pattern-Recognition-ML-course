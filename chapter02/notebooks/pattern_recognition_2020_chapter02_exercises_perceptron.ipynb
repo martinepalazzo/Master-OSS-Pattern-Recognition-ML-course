{
  "nbformat": 4,
  "nbformat_minor": 0,
  "metadata": {
    "kernelspec": {
      "display_name": "Python 3",
      "language": "python",
      "name": "python3"
    },
    "language_info": {
      "codemirror_mode": {
        "name": "ipython",
        "version": 3
      },
      "file_extension": ".py",
      "mimetype": "text/x-python",
      "name": "python",
      "nbconvert_exporter": "python",
      "pygments_lexer": "ipython3",
      "version": "3.6.8"
    },
    "colab": {
      "name": "pattern_recognition_2020_chapter02_exercises_perceptron.ipynb",
      "provenance": [],
      "collapsed_sections": []
    }
  },
  "cells": [
    {
      "cell_type": "markdown",
      "metadata": {
        "id": "Rzf2p8MsBy1s"
      },
      "source": [
        "____\n",
        "__Universite de Technologie de Troyes__<br/>\n",
        "__Universidad Tecnologica Nacional Buenos Aires__<br/>\n",
        "__Master OSS__<br/>\n",
        "__Machine Learning & Pattern Recognition__<br/>\n",
        "__Practice Sessions__<br/>\n",
        "__Teacher: Martin Palazzo__\n",
        "____"
      ]
    },
    {
      "cell_type": "markdown",
      "metadata": {
        "id": "MHDVjh6-By1u"
      },
      "source": [
        "# Perceptron practice"
      ]
    },
    {
      "cell_type": "markdown",
      "metadata": {
        "id": "vRxIW0EUBy1v"
      },
      "source": [
        "Import useful libraries mainly Numpy for calculus and Seaborn and Matplotlib for visualization."
      ]
    },
    {
      "cell_type": "code",
      "metadata": {
        "id": "UWRqC22aBy1w"
      },
      "source": [
        "# Import libraries\n",
        "import numpy as np\n",
        "import seaborn as sns\n",
        "from matplotlib import pyplot as plt\n",
        "sns.set_context(\"talk\", font_scale=0.85)"
      ],
      "execution_count": 1,
      "outputs": []
    },
    {
      "cell_type": "markdown",
      "metadata": {
        "id": "xe-QdadZBy11"
      },
      "source": [
        "### Define perceptron functions"
      ]
    },
    {
      "cell_type": "code",
      "metadata": {
        "id": "ynGpw5JuBy11"
      },
      "source": [
        "# Define predict function to measure the performance of the current model\n",
        "\n",
        "def predict(row, weights):\n",
        "    # row is a vector of one sample\n",
        "    activation = weights[0]\n",
        "    \n",
        "    for i in range(len(row)-1):\n",
        "        activation += weights[i + 1] * row[i]\n",
        "    return 1.0 if activation >= 0.0 else 0.0\n",
        "\n",
        "\n",
        "\n",
        "# Define \"train_weights\" function to estimate Perceptron weights using stochastic gradient descent\n",
        "\n",
        "def train_weights(train, l_rate, n_epoch): \n",
        "    #\"train\" is a n samples by p features matrix. Its last column are the labels\n",
        "    \n",
        "    #initialize weights\n",
        "    weights = [0.0 for i in range(len(train[0]))]\n",
        "    \n",
        "    #start epochs\n",
        "    error_per_epoch = np.zeros(n_epoch)\n",
        "    for epoch in range(n_epoch):\n",
        "        sum_error = 0.0\n",
        "        for row in train:\n",
        "            prediction = predict(row, weights)\n",
        "            \n",
        "            # measure the error for the current sample in the actual epoch. The label here is \"row[-1]\"\n",
        "            error = row[-1] - prediction\n",
        "            # acumulate error\n",
        "            sum_error += error**2\n",
        "            # propagate the error to the weights\n",
        "            weights[0] = weights[0] + l_rate * error\n",
        "            for i in range(len(row)-1):\n",
        "                weights[i + 1] = weights[i + 1] + l_rate * error * row[i]\n",
        "        print('>epoch=%d, lrate=%.3f, error=%.3f' % (epoch, l_rate, sum_error))\n",
        "        error_per_epoch[epoch] = sum_error\n",
        "    return weights, error_per_epoch\n",
        "\n"
      ],
      "execution_count": 2,
      "outputs": []
    },
    {
      "cell_type": "markdown",
      "metadata": {
        "id": "qWzUY3E5By2A"
      },
      "source": [
        "# Generate a synthetic random dataset and train a perceptron\n",
        "- Classes are separable"
      ]
    },
    {
      "cell_type": "code",
      "metadata": {
        "id": "ea-pv7x9By2B"
      },
      "source": [
        "from sklearn.datasets.samples_generator import make_blobs\n",
        "# the cluster_std generate more spread data\n",
        "x, y = make_blobs(n_samples=50, centers=2,random_state=0, cluster_std=0.75)\n",
        "\n",
        "#y1 = np.reshape(y1,(np.shape(y1)[0],1))"
      ],
      "execution_count": 28,
      "outputs": []
    },
    {
      "cell_type": "code",
      "metadata": {
        "id": "kdPm82a2f4ab"
      },
      "source": [
        "from sklearn.model_selection import train_test_split\n",
        "xtr, xte, ytr, yte = train_test_split(x,y, test_size = 0.5)"
      ],
      "execution_count": 30,
      "outputs": []
    },
    {
      "cell_type": "code",
      "metadata": {
        "id": "nm1htMtDfp9R",
        "outputId": "8eef2c28-48e4-48b1-c721-d22d01f80622",
        "colab": {
          "base_uri": "https://localhost:8080/",
          "height": 295
        }
      },
      "source": [
        "# plot data matrix\n",
        "sns.heatmap(xtr)"
      ],
      "execution_count": 46,
      "outputs": [
        {
          "output_type": "execute_result",
          "data": {
            "text/plain": [
              "<matplotlib.axes._subplots.AxesSubplot at 0x7ffaed1c6780>"
            ]
          },
          "metadata": {
            "tags": []
          },
          "execution_count": 46
        },
        {
          "output_type": "display_data",
          "data": {
            "image/png": "[encoded data removed]",
            "text/plain": [
              "<Figure size 432x288 with 2 Axes>"
            ]
          },
          "metadata": {
            "tags": [],
            "needs_background": "light"
          }
        }
      ]
    },
    {
      "cell_type": "code",
      "metadata": {
        "id": "DHQvRsWEBy2E",
        "outputId": "1ae1d63b-c483-4442-971d-311346062315",
        "colab": {
          "base_uri": "https://localhost:8080/",
          "height": 467
        }
      },
      "source": [
        "# scatter plot of the two dimensions of the input data\n",
        "\n",
        "from matplotlib.pyplot import figure\n",
        "figure(num=None, figsize=(8, 6), dpi=80, facecolor='w', edgecolor='k')\n",
        "plt.scatter(xtr[:, 0], xtr[:, 1], c=ytr, s=50, cmap='cool', alpha = 0.5);\n",
        "plt.title(\"synthetic data\")\n",
        "plt.xlabel('feature 1')\n",
        "plt.xlabel('feature 2')\n",
        "plt.grid(False)"
      ],
      "execution_count": 47,
      "outputs": [
        {
          "output_type": "display_data",
          "data": {
            "image/png": "[encoded data removed]",
            "text/plain": [
              "<Figure size 640x480 with 1 Axes>"
            ]
          },
          "metadata": {
            "tags": []
          }
        }
      ]
    },
    {
      "cell_type": "code",
      "metadata": {
        "id": "d9h6zjTEBy2I",
        "outputId": "8faf3100-012e-42de-fbd8-4c39f1d3e1ad",
        "colab": {
          "base_uri": "https://localhost:8080/"
        }
      },
      "source": [
        "# check the size of the \"xtr\" array\n",
        "np.shape(xtr)"
      ],
      "execution_count": 48,
      "outputs": [
        {
          "output_type": "execute_result",
          "data": {
            "text/plain": [
              "(25, 2)"
            ]
          },
          "metadata": {
            "tags": []
          },
          "execution_count": 48
        }
      ]
    },
    {
      "cell_type": "code",
      "metadata": {
        "id": "9Iv31S1QBy2N",
        "outputId": "d9ad16f9-4cb0-4eb1-cdfe-1d7fbaf0629b",
        "colab": {
          "base_uri": "https://localhost:8080/"
        }
      },
      "source": [
        "np.shape(ytr)"
      ],
      "execution_count": 49,
      "outputs": [
        {
          "output_type": "execute_result",
          "data": {
            "text/plain": [
              "(25,)"
            ]
          },
          "metadata": {
            "tags": []
          },
          "execution_count": 49
        }
      ]
    },
    {
      "cell_type": "code",
      "metadata": {
        "id": "fxTHXeOmBy2S"
      },
      "source": [
        "# concatenate the x matrix and y vector to generate a matrix with the labels in the last column\n",
        "data_synthetic = np.concatenate([xtr,np.reshape(ytr,(np.shape(ytr)[0],1))], axis = 1)"
      ],
      "execution_count": 50,
      "outputs": []
    },
    {
      "cell_type": "markdown",
      "metadata": {
        "id": "KPekI5xJBy2b"
      },
      "source": [
        "#### Train perceptron on x1 data"
      ]
    },
    {
      "cell_type": "code",
      "metadata": {
        "id": "G8EnYtZaBy2c"
      },
      "source": [
        "# define the hyperparameters of the perceptron\n",
        "l_rate = 0.01\n",
        "n_epoch = 10"
      ],
      "execution_count": 51,
      "outputs": []
    },
    {
      "cell_type": "code",
      "metadata": {
        "id": "wk3Sq-kDBy2h",
        "outputId": "1713bd08-5cb6-459a-bf65-3263f8d8c4db",
        "colab": {
          "base_uri": "https://localhost:8080/"
        }
      },
      "source": [
        "# train the weights of the perceptron given the dataset using \"train_weights\" function\n",
        "weights, error_epochs = train_weights(data_synthetic, l_rate, n_epoch)"
      ],
      "execution_count": 52,
      "outputs": [
        {
          "output_type": "stream",
          "text": [
            ">epoch=0, lrate=0.010, error=6.000\n",
            ">epoch=1, lrate=0.010, error=3.000\n",
            ">epoch=2, lrate=0.010, error=3.000\n",
            ">epoch=3, lrate=0.010, error=0.000\n",
            ">epoch=4, lrate=0.010, error=0.000\n",
            ">epoch=5, lrate=0.010, error=0.000\n",
            ">epoch=6, lrate=0.010, error=0.000\n",
            ">epoch=7, lrate=0.010, error=0.000\n",
            ">epoch=8, lrate=0.010, error=0.000\n",
            ">epoch=9, lrate=0.010, error=0.000\n"
          ],
          "name": "stdout"
        }
      ]
    },
    {
      "cell_type": "code",
      "metadata": {
        "id": "9eaVTrBXBy2k",
        "outputId": "5e3a11f1-138c-4f75-b1dc-578a1c06a408",
        "colab": {
          "base_uri": "https://localhost:8080/"
        }
      },
      "source": [
        "# print the error per epoch vector\n",
        "error_epochs"
      ],
      "execution_count": 53,
      "outputs": [
        {
          "output_type": "execute_result",
          "data": {
            "text/plain": [
              "array([6., 3., 3., 0., 0., 0., 0., 0., 0., 0.])"
            ]
          },
          "metadata": {
            "tags": []
          },
          "execution_count": 53
        }
      ]
    },
    {
      "cell_type": "code",
      "metadata": {
        "id": "H2Lfv0dGBy2o",
        "outputId": "3e4605c9-7c9b-4b7a-cbaf-1e1249db59da",
        "colab": {
          "base_uri": "https://localhost:8080/",
          "height": 346
        }
      },
      "source": [
        "# visualize the error per epoch vector\n",
        "figure(num=None, figsize=(7, 4), dpi=80, facecolor='w', edgecolor='k')\n",
        "plt.plot(error_epochs, '-o')\n",
        "plt.title(\"Error per epoch\")\n",
        "plt.ylabel(\"Error\")\n",
        "plt.xlabel(\"epoch\")\n",
        "plt.show()"
      ],
      "execution_count": 40,
      "outputs": [
        {
          "output_type": "display_data",
          "data": {
            "image/png": "[encoded data removed]",
            "text/plain": [
              "<Figure size 560x320 with 1 Axes>"
            ]
          },
          "metadata": {
            "tags": []
          }
        }
      ]
    },
    {
      "cell_type": "markdown",
      "metadata": {
        "id": "xhkpANhFhpIO"
      },
      "source": [
        "Remember that the perceptron learns the feature weights and the bias term as\n",
        "\\\n",
        "\\\n",
        "$$\n",
        "y = \\phi(wX + b)\n",
        "$$"
      ]
    },
    {
      "cell_type": "code",
      "metadata": {
        "id": "Idk8Kz3NfbNZ",
        "outputId": "fb15f033-7542-46c4-c63c-71abd7596811",
        "colab": {
          "base_uri": "https://localhost:8080/",
          "height": 293
        }
      },
      "source": [
        "# visualize the learned parameters\n",
        "plt.bar(np.arange(0,np.shape(weights)[0]),weights)"
      ],
      "execution_count": 54,
      "outputs": [
        {
          "output_type": "execute_result",
          "data": {
            "text/plain": [
              "<BarContainer object of 3 artists>"
            ]
          },
          "metadata": {
            "tags": []
          },
          "execution_count": 54
        },
        {
          "output_type": "display_data",
          "data": {
            "image/png": "[encoded data removed]",
            "text/plain": [
              "<Figure size 432x288 with 1 Axes>"
            ]
          },
          "metadata": {
            "tags": [],
            "needs_background": "light"
          }
        }
      ]
    },
    {
      "cell_type": "markdown",
      "metadata": {
        "id": "mMXyWE80h6rf"
      },
      "source": [
        "### **Test the model on new unseen data**\n",
        "$$\n",
        "\\hat{y} = \\hat{f}(x)\n",
        "$$"
      ]
    },
    {
      "cell_type": "code",
      "metadata": {
        "id": "9MFmPifyfI0x",
        "outputId": "b4112ebd-7867-4288-fa96-6069ff8600d6",
        "colab": {
          "base_uri": "https://localhost:8080/"
        }
      },
      "source": [
        "predict(xte[1,:],weights)"
      ],
      "execution_count": 55,
      "outputs": [
        {
          "output_type": "execute_result",
          "data": {
            "text/plain": [
              "1.0"
            ]
          },
          "metadata": {
            "tags": []
          },
          "execution_count": 55
        }
      ]
    },
    {
      "cell_type": "code",
      "metadata": {
        "id": "mJcmSUZCgZcq",
        "outputId": "1ee4b4bc-d822-4003-d01c-bd62645fed8a",
        "colab": {
          "base_uri": "https://localhost:8080/"
        }
      },
      "source": [
        "yte[1]"
      ],
      "execution_count": 56,
      "outputs": [
        {
          "output_type": "execute_result",
          "data": {
            "text/plain": [
              "1"
            ]
          },
          "metadata": {
            "tags": []
          },
          "execution_count": 56
        }
      ]
    },
    {
      "cell_type": "markdown",
      "metadata": {
        "id": "0BP_6JkRBy2s"
      },
      "source": [
        "### Generate a synthetic random dataset and train a perceptron\n",
        "- Classes are **NOT** separable"
      ]
    },
    {
      "cell_type": "code",
      "metadata": {
        "id": "76kE5zzVBy2t"
      },
      "source": [
        "# the cluster_std generate more spread data\n",
        "x, y = make_blobs(n_samples=50, centers=2,random_state=0, cluster_std=1.29)\n",
        "xtr, xte, ytr, yte = train_test_split(x,y, test_size = 0.5)"
      ],
      "execution_count": 60,
      "outputs": []
    },
    {
      "cell_type": "code",
      "metadata": {
        "id": "6Iw-u4bNBy2z",
        "outputId": "5b9687d9-bac7-4023-a991-f3e101641a9b",
        "colab": {
          "base_uri": "https://localhost:8080/",
          "height": 324
        }
      },
      "source": [
        "figure(num=None, figsize=(7, 4), dpi=80, facecolor='w', edgecolor='k')\n",
        "plt.scatter(xtr[:, 0], xtr[:, 1], c=ytr, s=50, cmap='cool', alpha = 0.5);\n",
        "plt.title(\"synthetic data\")\n",
        "plt.grid(False)"
      ],
      "execution_count": 61,
      "outputs": [
        {
          "output_type": "display_data",
          "data": {
            "image/png": "[encoded data removed]",
            "text/plain": [
              "<Figure size 560x320 with 1 Axes>"
            ]
          },
          "metadata": {
            "tags": []
          }
        }
      ]
    },
    {
      "cell_type": "code",
      "metadata": {
        "id": "c9kvPD2wBy22"
      },
      "source": [
        "# concatenate the x matrix and y vector to generate a matrix with the labels in the last column\n",
        "data_synthetic_2 = np.concatenate([xtr,np.reshape(ytr,(np.shape(ytr)[0],1))], axis = 1)"
      ],
      "execution_count": 62,
      "outputs": []
    },
    {
      "cell_type": "code",
      "metadata": {
        "id": "QpAtQju_By25"
      },
      "source": [
        "# define the hyperparameters of the perceptron\n",
        "l_rate2 = 0.01\n",
        "n_epoch2 = 30"
      ],
      "execution_count": 63,
      "outputs": []
    },
    {
      "cell_type": "code",
      "metadata": {
        "id": "T80b4lpzBy29",
        "outputId": "0af68597-339e-481e-c94c-c8b4e2e326c8",
        "colab": {
          "base_uri": "https://localhost:8080/"
        }
      },
      "source": [
        "# train the weights of the perceptron given the dataset using \"train_weights\" function\n",
        "weights2, error_epochs2 = train_weights(data_synthetic_2, l_rate2, n_epoch2)"
      ],
      "execution_count": 64,
      "outputs": [
        {
          "output_type": "stream",
          "text": [
            ">epoch=0, lrate=0.010, error=11.000\n",
            ">epoch=1, lrate=0.010, error=8.000\n",
            ">epoch=2, lrate=0.010, error=9.000\n",
            ">epoch=3, lrate=0.010, error=11.000\n",
            ">epoch=4, lrate=0.010, error=5.000\n",
            ">epoch=5, lrate=0.010, error=8.000\n",
            ">epoch=6, lrate=0.010, error=8.000\n",
            ">epoch=7, lrate=0.010, error=6.000\n",
            ">epoch=8, lrate=0.010, error=6.000\n",
            ">epoch=9, lrate=0.010, error=6.000\n",
            ">epoch=10, lrate=0.010, error=6.000\n",
            ">epoch=11, lrate=0.010, error=8.000\n",
            ">epoch=12, lrate=0.010, error=6.000\n",
            ">epoch=13, lrate=0.010, error=6.000\n",
            ">epoch=14, lrate=0.010, error=6.000\n",
            ">epoch=15, lrate=0.010, error=6.000\n",
            ">epoch=16, lrate=0.010, error=7.000\n",
            ">epoch=17, lrate=0.010, error=8.000\n",
            ">epoch=18, lrate=0.010, error=6.000\n",
            ">epoch=19, lrate=0.010, error=6.000\n",
            ">epoch=20, lrate=0.010, error=6.000\n",
            ">epoch=21, lrate=0.010, error=6.000\n",
            ">epoch=22, lrate=0.010, error=8.000\n",
            ">epoch=23, lrate=0.010, error=6.000\n",
            ">epoch=24, lrate=0.010, error=6.000\n",
            ">epoch=25, lrate=0.010, error=6.000\n",
            ">epoch=26, lrate=0.010, error=6.000\n",
            ">epoch=27, lrate=0.010, error=9.000\n",
            ">epoch=28, lrate=0.010, error=6.000\n",
            ">epoch=29, lrate=0.010, error=6.000\n"
          ],
          "name": "stdout"
        }
      ]
    },
    {
      "cell_type": "code",
      "metadata": {
        "id": "SLCqOKa4By3C",
        "outputId": "781ad87c-fc1e-4d43-f91d-f2c3623ce146",
        "colab": {
          "base_uri": "https://localhost:8080/",
          "height": 346
        }
      },
      "source": [
        "# visualize the error per epoch vector\n",
        "figure(num=None, figsize=(7, 4), dpi=80, facecolor='w', edgecolor='k')\n",
        "plt.plot(error_epochs2, '-o')\n",
        "plt.title(\"Error per epoch\")\n",
        "plt.ylabel(\"Error\")\n",
        "plt.xlabel(\"epoch\")\n",
        "plt.show()"
      ],
      "execution_count": 65,
      "outputs": [
        {
          "output_type": "display_data",
          "data": {
            "image/png": "[encoded data removed]",
            "text/plain": [
              "<Figure size 560x320 with 1 Axes>"
            ]
          },
          "metadata": {
            "tags": []
          }
        }
      ]
    },
    {
      "cell_type": "markdown",
      "metadata": {
        "id": "F8_PBPYaBy3F"
      },
      "source": [
        "## Train perceptron on Iris dataset"
      ]
    },
    {
      "cell_type": "code",
      "metadata": {
        "id": "wmPh7m3DBy3G"
      },
      "source": [
        "from sklearn.datasets import load_iris\n",
        "data = load_iris()\n",
        "\n",
        "# obtain x and y\n",
        "x_iris = data.data\n",
        "y_iris = data.target\n",
        "\n",
        "# since the dataset has 3 classes we only will use 2 of them to make binary classification\n",
        "x_iris_binary = x_iris[y_iris != 0, :]\n",
        "y_iris_binary = y_iris[y_iris != 0]\n",
        "y_iris_binary[y_iris_binary==2] = 0\n",
        "\n",
        "# adapt the size of y_iris_binary to [n,1]\n",
        "y_iris_binary = np.reshape(y_iris_binary,(np.shape(y_iris_binary)[0],1))\n",
        "\n",
        "# create the data matrix where its final column is the labels since that is the defined type of perceptron input\n",
        "data_iris_binary = np.concatenate((x_iris_binary,y_iris_binary), axis = 1)"
      ],
      "execution_count": 66,
      "outputs": []
    },
    {
      "cell_type": "code",
      "metadata": {
        "id": "maDA_-whBy3J"
      },
      "source": [
        "# make K-fold partitions of the dataset\n",
        "from sklearn.model_selection import StratifiedKFold\n",
        "# determine the number of splits\n",
        "skf = StratifiedKFold(n_splits=5)\n",
        "skf.get_n_splits(x_iris_binary, y_iris_binary)\n",
        "# generate the index of each split in order to separate train and test\n",
        "tr_index = []\n",
        "te_index = []\n",
        "for train_index, test_index in skf.split(x_iris_binary, y_iris_binary):\n",
        "        tr_index.append(train_index)\n",
        "        te_index.append(test_index)"
      ],
      "execution_count": 67,
      "outputs": []
    },
    {
      "cell_type": "code",
      "metadata": {
        "id": "9HpKarf6By3M"
      },
      "source": [
        "# define the current fold of the test loop\n",
        "fold = 0\n",
        "# separate train and test with the current fold (if its desired a 5 fold cross validation can be done within training)\n",
        "xtr = x_iris_binary[tr_index[fold],:]\n",
        "ytr = y_iris_binary[tr_index[fold],]\n",
        "xte = x_iris_binary[te_index[fold],:]\n",
        "yte = y_iris_binary[te_index[fold],]"
      ],
      "execution_count": 68,
      "outputs": []
    },
    {
      "cell_type": "code",
      "metadata": {
        "id": "jpI882CkBy3P"
      },
      "source": [
        "# generate the data matrix that has the final column with the labels for perceptron input\n",
        "data_tr = np.concatenate((xtr,ytr), axis = 1)"
      ],
      "execution_count": 69,
      "outputs": []
    },
    {
      "cell_type": "code",
      "metadata": {
        "id": "_QS2Ln4hBy3T",
        "outputId": "01714dff-8f5b-412f-d109-ad863a1407ac",
        "colab": {
          "base_uri": "https://localhost:8080/"
        }
      },
      "source": [
        "# check the data_tr size\n",
        "np.shape(data_tr)"
      ],
      "execution_count": 70,
      "outputs": [
        {
          "output_type": "execute_result",
          "data": {
            "text/plain": [
              "(80, 5)"
            ]
          },
          "metadata": {
            "tags": []
          },
          "execution_count": 70
        }
      ]
    },
    {
      "cell_type": "code",
      "metadata": {
        "id": "uz5onnniBy3W"
      },
      "source": [
        ""
      ],
      "execution_count": null,
      "outputs": []
    },
    {
      "cell_type": "code",
      "metadata": {
        "id": "R24jeHHPBy3a"
      },
      "source": [
        "# define the hyperparameters of the perceptron to be trained. Try to use new names (l_rate3 and n_epoch3 for example)\n",
        "\n",
        "#### code here #####\n",
        "\n",
        "#### code here #####"
      ],
      "execution_count": null,
      "outputs": []
    },
    {
      "cell_type": "code",
      "metadata": {
        "id": "zIISNNImBy3e"
      },
      "source": [
        "# train the weights of the perceptron with the \"train_weights\" function and the parameters defined above using the \"data_tr\" matrix\n",
        "\n",
        "#### code here #####\n",
        "\n",
        "#### code here #####"
      ],
      "execution_count": null,
      "outputs": []
    },
    {
      "cell_type": "code",
      "metadata": {
        "id": "ziyqAZCsBy3j"
      },
      "source": [
        "# visualize the error per epoch vector on the current training.\n",
        "\n",
        "#### code here #####\n",
        "\n",
        "#### code here #####"
      ],
      "execution_count": null,
      "outputs": []
    },
    {
      "cell_type": "code",
      "metadata": {
        "id": "x2pOam0ZBy3m"
      },
      "source": [
        "# a) define a final model (using the desired hyperparameters)\n",
        "\n",
        "# b) use the function \"predict\" defined above to predict the labels of the test set\n",
        "\n",
        "# c) compute the accuracy and empirical error comparing the prediciton with the real labels\n",
        "\n",
        "#### code here #####\n",
        "\n",
        "#### code here #####"
      ],
      "execution_count": null,
      "outputs": []
    },
    {
      "cell_type": "code",
      "metadata": {
        "id": "X6yUV6uSBy3p"
      },
      "source": [
        "# Using the same train set compute a KNN and compare the results."
      ],
      "execution_count": null,
      "outputs": []
    },
    {
      "cell_type": "code",
      "metadata": {
        "id": "9SnosbFiBy3s"
      },
      "source": [
        ""
      ],
      "execution_count": null,
      "outputs": []
    },
    {
      "cell_type": "code",
      "metadata": {
        "id": "y7adsAVhBy3v"
      },
      "source": [
        ""
      ],
      "execution_count": null,
      "outputs": []
    }
  ]
}
