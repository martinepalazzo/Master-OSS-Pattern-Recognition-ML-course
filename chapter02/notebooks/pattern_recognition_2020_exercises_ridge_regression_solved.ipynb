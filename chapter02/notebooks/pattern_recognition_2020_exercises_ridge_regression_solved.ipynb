{
  "nbformat": 4,
  "nbformat_minor": 0,
  "metadata": {
    "kernelspec": {
      "display_name": "Python 3",
      "language": "python",
      "name": "python3"
    },
    "language_info": {
      "codemirror_mode": {
        "name": "ipython",
        "version": 3
      },
      "file_extension": ".py",
      "mimetype": "text/x-python",
      "name": "python",
      "nbconvert_exporter": "python",
      "pygments_lexer": "ipython3",
      "version": "3.6.8"
    },
    "colab": {
      "name": "pattern_recognition_2020_exercises_ridge_regression_solved.ipynb",
      "provenance": [],
      "collapsed_sections": []
    }
  },
  "cells": [
    {
      "cell_type": "markdown",
      "metadata": {
        "id": "mVWqyLAlB0IM"
      },
      "source": [
        "____\n",
        "__Universite de Technologie de Troyes__<br/>\n",
        "__Universidad Tecnologica Nacional Buenos Aires__<br/>\n",
        "__Master OSS__<br/>\n",
        "__Machine Learning & Pattern Recognition__<br/>\n",
        "__Practice Sessions__<br/>\n",
        "__Teacher: Martin Palazzo__\n",
        "____"
      ]
    },
    {
      "cell_type": "markdown",
      "metadata": {
        "id": "-yAXOpp0B0IS"
      },
      "source": [
        "# Import Libraries"
      ]
    },
    {
      "cell_type": "markdown",
      "metadata": {
        "id": "0EQt7wq8B0IU"
      },
      "source": [
        "Import useful libraries mainly Numpy for calculus and Seaborn and Matplotlib for visualization."
      ]
    },
    {
      "cell_type": "code",
      "metadata": {
        "id": "5fp5dAg0B0IZ"
      },
      "source": [
        "import numpy as np\n",
        "import seaborn as sns\n",
        "from matplotlib import pyplot as plt\n",
        "sns.set_context(\"talk\", font_scale=0.85)\n",
        "from sklearn.model_selection import train_test_split\n",
        "from sklearn.preprocessing import StandardScaler\n",
        "from sklearn.datasets import load_boston\n",
        "from sklearn.datasets import load_diabetes\n",
        "from sklearn import datasets\n",
        "import seaborn as sns\n",
        "import pandas as pd\n",
        "from sklearn.metrics import mean_squared_error"
      ],
      "execution_count": 96,
      "outputs": []
    },
    {
      "cell_type": "markdown",
      "metadata": {
        "id": "ShX1cFk-B0Ip"
      },
      "source": [
        "# Import Datasets"
      ]
    },
    {
      "cell_type": "markdown",
      "metadata": {
        "id": "fpQHiGrWB0Iu"
      },
      "source": [
        "#### Import multi-variate regression data"
      ]
    },
    {
      "cell_type": "code",
      "metadata": {
        "id": "vngddaWlB0Iv"
      },
      "source": [
        "# first import data for regression\n",
        "boston = datasets.load_boston()\n",
        "#data = datasets.make_friedman3(n_samples=1000, noise=5.0, random_state=None)"
      ],
      "execution_count": 66,
      "outputs": []
    },
    {
      "cell_type": "code",
      "metadata": {
        "id": "1JvzdmPaB0I-"
      },
      "source": [
        "# define the independient variables\n",
        "x = boston.data\n",
        "# define the dependen variables (labels)\n",
        "y = boston.target"
      ],
      "execution_count": 67,
      "outputs": []
    },
    {
      "cell_type": "code",
      "metadata": {
        "id": "dOKKuLn4B0JF",
        "outputId": "90e8a425-6f1c-4e7d-a3d6-4e0c54cc6851",
        "colab": {
          "base_uri": "https://localhost:8080/"
        }
      },
      "source": [
        "# visualization of the first 20 values of y\n",
        "y[:20]"
      ],
      "execution_count": 68,
      "outputs": [
        {
          "output_type": "execute_result",
          "data": {
            "text/plain": [
              "array([24. , 21.6, 34.7, 33.4, 36.2, 28.7, 22.9, 27.1, 16.5, 18.9, 15. ,\n",
              "       18.9, 21.7, 20.4, 18.2, 19.9, 23.1, 17.5, 20.2, 18.2])"
            ]
          },
          "metadata": {
            "tags": []
          },
          "execution_count": 68
        }
      ]
    },
    {
      "cell_type": "code",
      "metadata": {
        "id": "U69np9K8B0JM",
        "outputId": "367b16e8-95a2-47dd-a22d-8d610ddac420",
        "colab": {
          "base_uri": "https://localhost:8080/",
          "height": 349
        }
      },
      "source": [
        "# distplot of label distribution\n",
        "sns.distplot(y)"
      ],
      "execution_count": 69,
      "outputs": [
        {
          "output_type": "stream",
          "text": [
            "/usr/local/lib/python3.6/dist-packages/seaborn/distributions.py:2551: FutureWarning: `distplot` is a deprecated function and will be removed in a future version. Please adapt your code to use either `displot` (a figure-level function with similar flexibility) or `histplot` (an axes-level function for histograms).\n",
            "  warnings.warn(msg, FutureWarning)\n"
          ],
          "name": "stderr"
        },
        {
          "output_type": "execute_result",
          "data": {
            "text/plain": [
              "<matplotlib.axes._subplots.AxesSubplot at 0x7f1a74938898>"
            ]
          },
          "metadata": {
            "tags": []
          },
          "execution_count": 69
        },
        {
          "output_type": "display_data",
          "data": {
            "image/png": "[encoded data removed]",
            "text/plain": [
              "<Figure size 432x288 with 1 Axes>"
            ]
          },
          "metadata": {
            "tags": [],
            "needs_background": "light"
          }
        }
      ]
    },
    {
      "cell_type": "code",
      "metadata": {
        "id": "SlUI4va2B0JS",
        "outputId": "121249b5-2007-4168-b76b-b69fd1c95567",
        "colab": {
          "base_uri": "https://localhost:8080/"
        }
      },
      "source": [
        "# check the dimensionality and samples of the dataset\n",
        "np.shape(x)"
      ],
      "execution_count": 70,
      "outputs": [
        {
          "output_type": "execute_result",
          "data": {
            "text/plain": [
              "(506, 13)"
            ]
          },
          "metadata": {
            "tags": []
          },
          "execution_count": 70
        }
      ]
    },
    {
      "cell_type": "code",
      "metadata": {
        "id": "65_KmPvlB0Ja",
        "outputId": "89aed983-40c8-4134-80d6-ffa5e706a32e",
        "colab": {
          "base_uri": "https://localhost:8080/",
          "height": 312
        }
      },
      "source": [
        "# print the x matrix\n",
        "sns.heatmap(x)\n",
        "plt.title('Raw data')\n",
        "plt.xlabel('Features')\n",
        "plt.ylabel('Samples')\n",
        "plt.show()"
      ],
      "execution_count": 71,
      "outputs": [
        {
          "output_type": "display_data",
          "data": {
            "image/png": "[encoded data removed]",
            "text/plain": [
              "<Figure size 432x288 with 2 Axes>"
            ]
          },
          "metadata": {
            "tags": [],
            "needs_background": "light"
          }
        }
      ]
    },
    {
      "cell_type": "code",
      "metadata": {
        "id": "sCbL8gPQZAW5",
        "outputId": "fc9c3108-bcb5-4b5a-e563-1d992226f3df",
        "colab": {
          "base_uri": "https://localhost:8080/",
          "height": 280
        }
      },
      "source": [
        "# Feature pairwise linear correlation\n",
        "sns.heatmap(pd.DataFrame(x).corr())\n",
        "plt.show()"
      ],
      "execution_count": 72,
      "outputs": [
        {
          "output_type": "display_data",
          "data": {
            "image/png": "[encoded data removed]",
            "text/plain": [
              "<Figure size 432x288 with 2 Axes>"
            ]
          },
          "metadata": {
            "tags": [],
            "needs_background": "light"
          }
        }
      ]
    },
    {
      "cell_type": "markdown",
      "metadata": {
        "id": "UJgea1xwGa3B"
      },
      "source": [
        "# **Train-test split**"
      ]
    },
    {
      "cell_type": "code",
      "metadata": {
        "id": "Inu-aTqMGaL0"
      },
      "source": [
        "# train test split\n",
        "xtr0, xte0, ytr, yte = train_test_split(x,y,test_size=0.3, random_state = 10)"
      ],
      "execution_count": 73,
      "outputs": []
    },
    {
      "cell_type": "code",
      "metadata": {
        "id": "3S1vnXqGHn6w"
      },
      "source": [
        "scaler = StandardScaler()"
      ],
      "execution_count": 74,
      "outputs": []
    },
    {
      "cell_type": "code",
      "metadata": {
        "id": "rxtkQ58kHn98",
        "outputId": "33378b1d-5cac-494a-9762-6a67eb63a2df",
        "colab": {
          "base_uri": "https://localhost:8080/"
        }
      },
      "source": [
        "# get the mean and standard deviation of every feature\n",
        "scaler.fit(xtr0)"
      ],
      "execution_count": 75,
      "outputs": [
        {
          "output_type": "execute_result",
          "data": {
            "text/plain": [
              "StandardScaler(copy=True, with_mean=True, with_std=True)"
            ]
          },
          "metadata": {
            "tags": []
          },
          "execution_count": 75
        }
      ]
    },
    {
      "cell_type": "code",
      "metadata": {
        "id": "BceoA6jQGaPN"
      },
      "source": [
        "# scale each feature using the mean and std-dev in the previous step\n",
        "xtr = scaler.transform(xtr0)\n",
        "xte = scaler.transform(xte0)"
      ],
      "execution_count": 76,
      "outputs": []
    },
    {
      "cell_type": "code",
      "metadata": {
        "id": "OgYvzTi9WLeW",
        "outputId": "b3bf77d7-95b3-41f2-e753-4fb60cdb1902",
        "colab": {
          "base_uri": "https://localhost:8080/",
          "height": 298
        }
      },
      "source": [
        "# print the x matrix\n",
        "sns.heatmap(xtr)"
      ],
      "execution_count": 77,
      "outputs": [
        {
          "output_type": "execute_result",
          "data": {
            "text/plain": [
              "<matplotlib.axes._subplots.AxesSubplot at 0x7f1a7475bbe0>"
            ]
          },
          "metadata": {
            "tags": []
          },
          "execution_count": 77
        },
        {
          "output_type": "display_data",
          "data": {
            "image/png": "[encoded data removed]",
            "text/plain": [
              "<Figure size 432x288 with 2 Axes>"
            ]
          },
          "metadata": {
            "tags": [],
            "needs_background": "light"
          }
        }
      ]
    },
    {
      "cell_type": "code",
      "metadata": {
        "id": "qduEdYiZWPr8",
        "outputId": "661d29c6-0282-46fb-a9a5-61df6aa230f6",
        "colab": {
          "base_uri": "https://localhost:8080/"
        }
      },
      "source": [
        "np.mean(xtr, axis = 0)"
      ],
      "execution_count": 78,
      "outputs": [
        {
          "output_type": "execute_result",
          "data": {
            "text/plain": [
              "array([-1.34387166e-16,  7.27603790e-17,  4.64286487e-15,  2.15772158e-16,\n",
              "       -2.36063523e-15,  1.95951228e-15,  2.05101159e-15, -1.25135307e-16,\n",
              "       -3.79483011e-17, -5.64520182e-18,  1.90105308e-14,  4.20300957e-15,\n",
              "        3.91087037e-16])"
            ]
          },
          "metadata": {
            "tags": []
          },
          "execution_count": 78
        }
      ]
    },
    {
      "cell_type": "code",
      "metadata": {
        "id": "gjC36t86WSzq",
        "outputId": "386be3e5-835e-4dd8-db5e-49f8cedf8bec",
        "colab": {
          "base_uri": "https://localhost:8080/"
        }
      },
      "source": [
        "np.std(xtr)"
      ],
      "execution_count": 79,
      "outputs": [
        {
          "output_type": "execute_result",
          "data": {
            "text/plain": [
              "1.0000000000000002"
            ]
          },
          "metadata": {
            "tags": []
          },
          "execution_count": 79
        }
      ]
    },
    {
      "cell_type": "code",
      "metadata": {
        "id": "PID_2vlXjRjM"
      },
      "source": [
        "#xtr"
      ],
      "execution_count": 80,
      "outputs": []
    },
    {
      "cell_type": "markdown",
      "metadata": {
        "id": "dPZj0QcyS0Yb"
      },
      "source": [
        "### **Train validation split**"
      ]
    },
    {
      "cell_type": "code",
      "metadata": {
        "id": "R_NPAshqGaSU"
      },
      "source": [
        "from sklearn.model_selection import KFold"
      ],
      "execution_count": 81,
      "outputs": []
    },
    {
      "cell_type": "code",
      "metadata": {
        "id": "qbtqkykBTMV-",
        "outputId": "c2870ea6-20cb-45ce-e598-f642f310fe28",
        "colab": {
          "base_uri": "https://localhost:8080/"
        }
      },
      "source": [
        "kf = KFold(n_splits=5)\n",
        "kf.get_n_splits(xtr)"
      ],
      "execution_count": 82,
      "outputs": [
        {
          "output_type": "execute_result",
          "data": {
            "text/plain": [
              "5"
            ]
          },
          "metadata": {
            "tags": []
          },
          "execution_count": 82
        }
      ]
    },
    {
      "cell_type": "code",
      "metadata": {
        "id": "tKEvcEjZT8mi"
      },
      "source": [
        "train_index, val_index = next(kf.split(xtr))\n",
        "xtra = xtr[train_index]\n",
        "xval = xtr[val_index]\n",
        "\n",
        "ytra = ytr[train_index]\n",
        "yval = ytr[val_index]"
      ],
      "execution_count": 83,
      "outputs": []
    },
    {
      "cell_type": "code",
      "metadata": {
        "id": "UBY3_hWAV9vT",
        "outputId": "aa132e71-1a5d-4077-f2bf-32589666ecaf",
        "colab": {
          "base_uri": "https://localhost:8080/"
        }
      },
      "source": [
        "xtra.shape"
      ],
      "execution_count": 84,
      "outputs": [
        {
          "output_type": "execute_result",
          "data": {
            "text/plain": [
              "(283, 13)"
            ]
          },
          "metadata": {
            "tags": []
          },
          "execution_count": 84
        }
      ]
    },
    {
      "cell_type": "code",
      "metadata": {
        "id": "2mYnHXP2V_t3",
        "outputId": "647ae16c-64d4-49fa-c101-18cfc8959d8e",
        "colab": {
          "base_uri": "https://localhost:8080/"
        }
      },
      "source": [
        "xval.shape"
      ],
      "execution_count": 85,
      "outputs": [
        {
          "output_type": "execute_result",
          "data": {
            "text/plain": [
              "(71, 13)"
            ]
          },
          "metadata": {
            "tags": []
          },
          "execution_count": 85
        }
      ]
    },
    {
      "cell_type": "markdown",
      "metadata": {
        "id": "6B2zzoan4vqu"
      },
      "source": [
        "# **Linear Regression**"
      ]
    },
    {
      "cell_type": "code",
      "metadata": {
        "id": "08ZsLDkR4upa"
      },
      "source": [
        "def linear_regression(x, y):\n",
        "\n",
        "  'Ridge regression method to obtain feature parameters using the regularization term'\n",
        "\n",
        "  x_tran = np.transpose(x)\n",
        "  xtransx = np.dot(x_tran, x)\n",
        "  if xtransx.shape[0] != xtransx.shape[1]:\n",
        "      raise ValueError('Needs to be a square matrix for inverse')\n",
        "  #lamidentity = np.identity(xtransx.shape[0]) * lamb\n",
        "  matinv = np.linalg.inv(xtransx)\n",
        "  xtransy = np.dot(x_tran, y)\n",
        "  weights = np.dot(matinv, xtransy)\n",
        "\n",
        "  return weights"
      ],
      "execution_count": 89,
      "outputs": []
    },
    {
      "cell_type": "code",
      "metadata": {
        "id": "hS0XDIcF4utS"
      },
      "source": [
        "def lin_reg(x,y):\n",
        "  n, m = x.shape\n",
        "  I = np.identity(m)\n",
        "  w = np.dot(np.dot(np.linalg.inv(np.dot(x.T, x)), x.T), y)\n",
        "  return w"
      ],
      "execution_count": 90,
      "outputs": []
    },
    {
      "cell_type": "code",
      "metadata": {
        "id": "aJRpKyal4u1L",
        "outputId": "addf473d-35a5-4867-871c-e1cc2ca89776",
        "colab": {
          "base_uri": "https://localhost:8080/"
        }
      },
      "source": [
        "# Visualize the weights obtained\n",
        "weights_ols = lin_reg(xtra,ytra)\n",
        "weights_ols"
      ],
      "execution_count": 91,
      "outputs": [
        {
          "output_type": "execute_result",
          "data": {
            "text/plain": [
              "array([-0.75358976,  2.74032723,  0.43594183,  0.27291687, -0.69509366,\n",
              "        2.51633168, -1.23015119, -4.23115586,  2.5778356 , -2.62370762,\n",
              "       -0.9062409 ,  1.57266438, -3.43169149])"
            ]
          },
          "metadata": {
            "tags": []
          },
          "execution_count": 91
        }
      ]
    },
    {
      "cell_type": "code",
      "metadata": {
        "id": "jZlIi76U4u5_",
        "outputId": "d96dea85-e130-4466-a12c-0653d0982b81",
        "colab": {
          "base_uri": "https://localhost:8080/"
        }
      },
      "source": [
        "# compute the L2 norm of the weights vector\n",
        "np.linalg.norm(weights_ols, ord = 2)"
      ],
      "execution_count": 92,
      "outputs": [
        {
          "output_type": "execute_result",
          "data": {
            "text/plain": [
              "7.948143322434163"
            ]
          },
          "metadata": {
            "tags": []
          },
          "execution_count": 92
        }
      ]
    },
    {
      "cell_type": "code",
      "metadata": {
        "id": "gP2yIf0SCz97",
        "outputId": "9a3b4c60-6e88-4e3e-88aa-d5025edd66ac",
        "colab": {
          "base_uri": "https://localhost:8080/",
          "height": 294
        }
      },
      "source": [
        "sns.barplot(x = np.arange(0,np.shape(weights_ols)[0]), y = weights_ols)\n",
        "plt.xlabel('feature weights')\n",
        "plt.ylabel('weight value')\n",
        "plt.show()"
      ],
      "execution_count": 93,
      "outputs": [
        {
          "output_type": "display_data",
          "data": {
            "image/png": "[encoded data removed]",
            "text/plain": [
              "<Figure size 432x288 with 1 Axes>"
            ]
          },
          "metadata": {
            "tags": [],
            "needs_background": "light"
          }
        }
      ]
    },
    {
      "cell_type": "code",
      "metadata": {
        "id": "RY-Jav4ZC0Ko"
      },
      "source": [
        "# compute the estimation of y using the obtained weights\n",
        "y_pred_val_ols = np.dot(xval, np.asarray(weights_ols))"
      ],
      "execution_count": 94,
      "outputs": []
    },
    {
      "cell_type": "code",
      "metadata": {
        "id": "8B0uJrHqC0Ox",
        "outputId": "20745aea-67aa-44bf-cd49-1586995d9637",
        "colab": {
          "base_uri": "https://localhost:8080/"
        }
      },
      "source": [
        "rmse_ols = np.sqrt(np.mean(np.square(yval - y_pred_val_ols)))\n",
        "rmse_ols"
      ],
      "execution_count": 99,
      "outputs": [
        {
          "output_type": "execute_result",
          "data": {
            "text/plain": [
              "22.4670955381426"
            ]
          },
          "metadata": {
            "tags": []
          },
          "execution_count": 99
        }
      ]
    },
    {
      "cell_type": "markdown",
      "metadata": {
        "collapsed": true,
        "id": "MUVsWexpB0Jh"
      },
      "source": [
        "# Ridge Regression"
      ]
    },
    {
      "cell_type": "code",
      "metadata": {
        "id": "N-YMI4PFB0Ji"
      },
      "source": [
        "\n",
        "def ridge_regression(x, y, labd):\n",
        "\n",
        "  'Ridge regression method to obtain feature parameters using the regularization term'\n",
        "\n",
        "  x_tran = np.transpose(x)\n",
        "  xtransx = np.dot(x_tran, x)\n",
        "  if xtransx.shape[0] != xtransx.shape[1]:\n",
        "      raise ValueError('Needs to be a square matrix for inverse')\n",
        "  lamidentity = np.identity(xtransx.shape[0]) * lamb\n",
        "  matinv = np.linalg.inv(lamidentity + xtransx)\n",
        "  xtransy = np.dot(x_tran, y)\n",
        "  weights = np.dot(matinv, xtransy)\n",
        "\n",
        "  return weights"
      ],
      "execution_count": 100,
      "outputs": []
    },
    {
      "cell_type": "code",
      "metadata": {
        "id": "uwYiZNmvCGhf"
      },
      "source": [
        "def ridge_reg(x,y,lambd):\n",
        "  n, m = x.shape\n",
        "  I = np.identity(m)\n",
        "  w = np.dot(np.dot(np.linalg.inv(np.dot(x.T, x) + lambd * I), x.T), y)\n",
        "  return w"
      ],
      "execution_count": 101,
      "outputs": []
    },
    {
      "cell_type": "code",
      "metadata": {
        "id": "ZYwPACJqB0Jo"
      },
      "source": [
        "# select lambda values\n",
        "lamb = 30"
      ],
      "execution_count": 102,
      "outputs": []
    },
    {
      "cell_type": "code",
      "metadata": {
        "id": "NCw9Gj0ZB0Ju",
        "outputId": "710d4a35-954d-4ca2-e6ae-6d895983fe27",
        "colab": {
          "base_uri": "https://localhost:8080/"
        }
      },
      "source": [
        "# Visualize the weights obtained\n",
        "weights = ridge_reg(xtra,ytra, lamb)\n",
        "weights"
      ],
      "execution_count": 103,
      "outputs": [
        {
          "output_type": "execute_result",
          "data": {
            "text/plain": [
              "array([-0.53761896,  1.94592755,  0.03616543,  0.36180607, -0.30293686,\n",
              "        2.68252418, -1.01240137, -2.82583646,  1.0571608 , -1.08332124,\n",
              "       -0.94175696,  1.40971763, -3.02808432])"
            ]
          },
          "metadata": {
            "tags": []
          },
          "execution_count": 103
        }
      ]
    },
    {
      "cell_type": "code",
      "metadata": {
        "id": "0487qsPAB0J0",
        "outputId": "fee3500c-9b8f-4983-b133-f6225d65b4eb",
        "colab": {
          "base_uri": "https://localhost:8080/"
        }
      },
      "source": [
        "# compute the L2 norm of the weights vector\n",
        "np.linalg.norm(weights, ord = 2)"
      ],
      "execution_count": 104,
      "outputs": [
        {
          "output_type": "execute_result",
          "data": {
            "text/plain": [
              "5.902590378379027"
            ]
          },
          "metadata": {
            "tags": []
          },
          "execution_count": 104
        }
      ]
    },
    {
      "cell_type": "code",
      "metadata": {
        "id": "A2rgAzF5B0J6",
        "outputId": "f45e4b37-8f36-4704-8e28-dfd39cdf71e9",
        "colab": {
          "base_uri": "https://localhost:8080/",
          "height": 294
        }
      },
      "source": [
        "sns.barplot(x = np.arange(0,np.shape(weights)[0]), y = weights)\n",
        "plt.xlabel('feature weights')\n",
        "plt.ylabel('weight value')\n",
        "plt.show()"
      ],
      "execution_count": 105,
      "outputs": [
        {
          "output_type": "display_data",
          "data": {
            "image/png": "[encoded data removed]",
            "text/plain": [
              "<Figure size 432x288 with 1 Axes>"
            ]
          },
          "metadata": {
            "tags": [],
            "needs_background": "light"
          }
        }
      ]
    },
    {
      "cell_type": "code",
      "metadata": {
        "id": "ReGvyAKRB0KX",
        "outputId": "729aa8fe-16ad-490b-f1d7-bc44297a82e1",
        "colab": {
          "base_uri": "https://localhost:8080/"
        }
      },
      "source": [
        "# change the format of the weights vector\n",
        "weights_array = np.asarray(weights)\n",
        "weights_array"
      ],
      "execution_count": 106,
      "outputs": [
        {
          "output_type": "execute_result",
          "data": {
            "text/plain": [
              "array([-0.53761896,  1.94592755,  0.03616543,  0.36180607, -0.30293686,\n",
              "        2.68252418, -1.01240137, -2.82583646,  1.0571608 , -1.08332124,\n",
              "       -0.94175696,  1.40971763, -3.02808432])"
            ]
          },
          "metadata": {
            "tags": []
          },
          "execution_count": 106
        }
      ]
    },
    {
      "cell_type": "code",
      "metadata": {
        "id": "GeaWGAdZB0Kh",
        "outputId": "d9a96b34-ee88-4677-e411-664c145dfcc5",
        "colab": {
          "base_uri": "https://localhost:8080/"
        }
      },
      "source": [
        "np.shape(weights_array)"
      ],
      "execution_count": 107,
      "outputs": [
        {
          "output_type": "execute_result",
          "data": {
            "text/plain": [
              "(13,)"
            ]
          },
          "metadata": {
            "tags": []
          },
          "execution_count": 107
        }
      ]
    },
    {
      "cell_type": "code",
      "metadata": {
        "id": "JqYQOCRZB0Km"
      },
      "source": [
        "# compute the estimation of y using the obtained weights\n",
        "y_pred_val = np.dot(xval, weights_array)"
      ],
      "execution_count": 108,
      "outputs": []
    },
    {
      "cell_type": "code",
      "metadata": {
        "id": "f0yJ3rotB0Kr",
        "outputId": "cbea12e5-f286-44d8-f521-d93b5eb9af1e",
        "colab": {
          "base_uri": "https://localhost:8080/"
        }
      },
      "source": [
        "# check the dimensionality of the estimation of y\n",
        "np.shape(y_pred_val)"
      ],
      "execution_count": 109,
      "outputs": [
        {
          "output_type": "execute_result",
          "data": {
            "text/plain": [
              "(71,)"
            ]
          },
          "metadata": {
            "tags": []
          },
          "execution_count": 109
        }
      ]
    },
    {
      "cell_type": "code",
      "metadata": {
        "id": "i8puKjp1B0Kw",
        "outputId": "810e8c7b-9954-437a-b12e-39e663d72ab7",
        "colab": {
          "base_uri": "https://localhost:8080/"
        }
      },
      "source": [
        "# compute the MSE \n",
        "RMSE = np.sqrt(np.mean(np.square(yval - y_pred_val)))\n",
        "RMSE"
      ],
      "execution_count": 110,
      "outputs": [
        {
          "output_type": "execute_result",
          "data": {
            "text/plain": [
              "22.360473245668455"
            ]
          },
          "metadata": {
            "tags": []
          },
          "execution_count": 110
        }
      ]
    },
    {
      "cell_type": "markdown",
      "metadata": {
        "id": "jU4kc0BvITzc"
      },
      "source": [
        "# **Excercise: Ridge Regression Regularization Path**\n",
        "- Define which value of lambda reduces more the RMSE\n",
        "- plot a RMSE curve given different values of lambda hyper-parameter\n",
        "\n"
      ]
    },
    {
      "cell_type": "code",
      "metadata": {
        "id": "O3KbwUysB0K1"
      },
      "source": [
        "##### Define which value of lambda reduces more the RMSE ###### \n",
        "##### plot a RMSE curve given different values of lambda hyper-parameter #####"
      ],
      "execution_count": 111,
      "outputs": []
    },
    {
      "cell_type": "code",
      "metadata": {
        "id": "N6nfGHpm41JD",
        "outputId": "3aa2d448-a800-43a7-9988-2a4beabdf97c",
        "colab": {
          "base_uri": "https://localhost:8080/"
        }
      },
      "source": [
        "xtr.shape"
      ],
      "execution_count": 112,
      "outputs": [
        {
          "output_type": "execute_result",
          "data": {
            "text/plain": [
              "(354, 13)"
            ]
          },
          "metadata": {
            "tags": []
          },
          "execution_count": 112
        }
      ]
    },
    {
      "cell_type": "code",
      "metadata": {
        "id": "0D-6sHZ5B0K6"
      },
      "source": [
        "# \n",
        "iterations = 1000\n",
        "rmse = np.zeros(iterations)\n",
        "weight_path = np.zeros((iterations,xtr.shape[1]))\n",
        "for i in range(1, iterations+1, 1):\n",
        "  lamb = i\n",
        "  weight_path[i-1,:] = ridge_reg(xtra,ytra, lamb)\n",
        "  y_pred_val_i = np.dot(xval, np.asarray(weight_path[i-1,:]))\n",
        "  rmse[i-1] = np.sqrt(np.mean(np.square(yval - y_pred_val_i)))"
      ],
      "execution_count": 113,
      "outputs": []
    },
    {
      "cell_type": "code",
      "metadata": {
        "id": "2MVtSfhe_Ds1",
        "outputId": "eca4330a-1621-46c0-f0fa-9236d9d600ca",
        "colab": {
          "base_uri": "https://localhost:8080/"
        }
      },
      "source": [
        "weight_path.shape"
      ],
      "execution_count": 114,
      "outputs": [
        {
          "output_type": "execute_result",
          "data": {
            "text/plain": [
              "(1000, 13)"
            ]
          },
          "metadata": {
            "tags": []
          },
          "execution_count": 114
        }
      ]
    },
    {
      "cell_type": "code",
      "metadata": {
        "id": "pM8dQPmX-35F",
        "outputId": "ce608524-c30d-433a-e372-e8b87badebde",
        "colab": {
          "base_uri": "https://localhost:8080/",
          "height": 330
        }
      },
      "source": [
        "plt.plot(weight_path[:,0])\n",
        "plt.plot(weight_path[:,1])\n",
        "plt.plot(weight_path[:,2])\n",
        "plt.plot(weight_path[:,3])\n",
        "plt.plot(weight_path[:,4])\n",
        "plt.plot(weight_path[:,5])\n",
        "plt.plot(weight_path[:,6])\n",
        "plt.plot(weight_path[:,7])\n",
        "plt.plot(weight_path[:,8])\n",
        "plt.plot(weight_path[:,9])\n",
        "plt.plot(weight_path[:,10])\n",
        "plt.plot(weight_path[:,11])\n",
        "plt.plot(weight_path[:,12])\n",
        "plt.xlabel('Lambda parameter')\n",
        "plt.ylabel('feature weights')\n",
        "plt.title('Ridge Regression Path')\n",
        "plt.plot()"
      ],
      "execution_count": 129,
      "outputs": [
        {
          "output_type": "execute_result",
          "data": {
            "text/plain": [
              "[]"
            ]
          },
          "metadata": {
            "tags": []
          },
          "execution_count": 129
        },
        {
          "output_type": "display_data",
          "data": {
            "image/png": "[encoded data removed]",
            "text/plain": [
              "<Figure size 432x288 with 1 Axes>"
            ]
          },
          "metadata": {
            "tags": [],
            "needs_background": "light"
          }
        }
      ]
    },
    {
      "cell_type": "code",
      "metadata": {
        "id": "t7y5mSgiB0LA",
        "outputId": "1b3d0435-abea-4709-c2b0-e920661ed534",
        "colab": {
          "base_uri": "https://localhost:8080/",
          "height": 275
        }
      },
      "source": [
        "plt.plot(rmse, label = 'Ridge')\n",
        "plt.plot(np.full((1000),rmse_ols), '--', label = 'OLS')\n",
        "plt.legend()\n",
        "plt.show()"
      ],
      "execution_count": 128,
      "outputs": [
        {
          "output_type": "display_data",
          "data": {
            "image/png": "[encoded data removed]",
            "text/plain": [
              "<Figure size 432x288 with 1 Axes>"
            ]
          },
          "metadata": {
            "tags": [],
            "needs_background": "light"
          }
        }
      ]
    },
    {
      "cell_type": "code",
      "metadata": {
        "id": "kHsK6pCIB0LE"
      },
      "source": [
        ""
      ],
      "execution_count": null,
      "outputs": []
    },
    {
      "cell_type": "code",
      "metadata": {
        "id": "WngDrae_B0LJ",
        "outputId": "1748faf4-2031-4d99-8a07-53b722f36d92",
        "colab": {
          "base_uri": "https://localhost:8080/"
        }
      },
      "source": [
        "np.mean(np.square(yval - y_pred_val_i))"
      ],
      "execution_count": null,
      "outputs": [
        {
          "output_type": "execute_result",
          "data": {
            "text/plain": [
              "509.83509982878604"
            ]
          },
          "metadata": {
            "tags": []
          },
          "execution_count": 40
        }
      ]
    },
    {
      "cell_type": "code",
      "metadata": {
        "id": "HQoyQY8O9Z5Y",
        "outputId": "778cf49a-bd90-4a1a-aca8-b376e8417193",
        "colab": {
          "base_uri": "https://localhost:8080/"
        }
      },
      "source": [
        "mean_squared_error(yval, y_pred_val_i)"
      ],
      "execution_count": null,
      "outputs": [
        {
          "output_type": "execute_result",
          "data": {
            "text/plain": [
              "509.83509982878604"
            ]
          },
          "metadata": {
            "tags": []
          },
          "execution_count": 41
        }
      ]
    },
    {
      "cell_type": "code",
      "metadata": {
        "id": "1M6e0exv9fl8"
      },
      "source": [
        ""
      ],
      "execution_count": null,
      "outputs": []
    }
  ]
}
