{
 "cells": [
  {
   "cell_type": "markdown",
   "metadata": {},
   "source": [
    "____\n",
    "__Universite de Technologie de Troyes__<br/>\n",
    "__Universidad Tecnologica Nacional Buenos Aires__<br/>\n",
    "__Master OSS__<br/>\n",
    "__Machine Learning & Pattern Recognition__<br/>\n",
    "__Practice Sessions__<br/>\n",
    "__Teacher: Martin Palazzo__\n",
    "____"
   ]
  },
  {
   "cell_type": "markdown",
   "metadata": {},
   "source": [
    "# Import Libraries"
   ]
  },
  {
   "cell_type": "markdown",
   "metadata": {},
   "source": [
    "Import useful libraries mainly Numpy for calculus and Seaborn and Matplotlib for visualization."
   ]
  },
  {
   "cell_type": "code",
   "execution_count": null,
   "metadata": {},
   "outputs": [],
   "source": [
    "import numpy as np\n",
    "import seaborn as sns\n",
    "from matplotlib import pyplot as plt\n",
    "sns.set_context(\"talk\", font_scale=0.85)"
   ]
  },
  {
   "cell_type": "markdown",
   "metadata": {},
   "source": [
    "# Non-parametric density estimators"
   ]
  },
  {
   "cell_type": "markdown",
   "metadata": {},
   "source": [
    "# Define useful funtions"
   ]
  },
  {
   "cell_type": "code",
   "execution_count": null,
   "metadata": {},
   "outputs": [],
   "source": [
    "# univariate normal PDF\n",
    "def normal_pdf(x, mu, sigma):\n",
    "    return (1.0 / ( np.sqrt(2*np.pi) * sigma ))*(np.exp( -0.5 * ( (x-mu)/sigma )**2 ))"
   ]
  },
  {
   "cell_type": "code",
   "execution_count": null,
   "metadata": {},
   "outputs": [],
   "source": [
    "# multi-variate normal PDF\n",
    "def pdf_multivariate_gauss(x, mu, cov):\n",
    "\n",
    "    eq1 = 1 / ( ((2* np.pi)**(len(mu)/2)) * (np.linalg.det(cov)**(1/2)) )\n",
    "    eq2 = (-1/2) * ((x-mu).T.dot(np.linalg.inv(cov))).dot((x-mu))\n",
    "    return float(eq1 * np.exp(eq2))\n",
    "\n",
    "# x = numpy array of a \"d x 1\" sample vector\n",
    "# mu = numpy array of a \"d x 1\" mean vector\n",
    "# cov = \"numpy array of a d x d\" covariance matrix"
   ]
  },
  {
   "cell_type": "markdown",
   "metadata": {},
   "source": [
    "## Define the Parzen window with hypercube kernel"
   ]
  },
  {
   "cell_type": "code",
   "execution_count": null,
   "metadata": {},
   "outputs": [],
   "source": [
    "def parzen_window_est(x_data, h=1, center=[0,0,0]):\n",
    "\n",
    "    dim = x_data.shape[1]\n",
    "    k = 0\n",
    "    for x in x_data:\n",
    "        is_inside = 1\n",
    "        for axis,center_point in zip(x, center):\n",
    "            if np.abs(axis-center_point) > (h/2):\n",
    "                is_inside = 0\n",
    "        k += is_inside\n",
    "    return (k / len(x_data)) / (h**dim)"
   ]
  },
  {
   "cell_type": "markdown",
   "metadata": {},
   "source": [
    "## Generate random samples of the normal distribution"
   ]
  },
  {
   "cell_type": "code",
   "execution_count": null,
   "metadata": {},
   "outputs": [],
   "source": [
    "# Number of samples to generate\n",
    "samples_normal_univ = 200"
   ]
  },
  {
   "cell_type": "code",
   "execution_count": null,
   "metadata": {},
   "outputs": [],
   "source": [
    "# mean and sigma parameters of the normal to simulate\n",
    "mean_normal_univ = 0\n",
    "sigma_normal_univ = 1"
   ]
  },
  {
   "cell_type": "code",
   "execution_count": null,
   "metadata": {},
   "outputs": [],
   "source": [
    "x = np.arange(-3, 3, 0.05)\n",
    "# define the PDF of a known normal distribution\n",
    "pdf1 = normal_pdf(x, mu=mean_normal_univ, sigma=sigma_normal_univ)\n",
    "\n",
    "# plot PDF of a gaussian normal distribution\n",
    "plt.plot(x, pdf1)\n",
    "plt.title(\"PDF of a normal distribution. Mean = 0. Std. dev = 1\")\n",
    "plt.xlabel(\"x1\")\n",
    "plt.show()"
   ]
  },
  {
   "cell_type": "code",
   "execution_count": null,
   "metadata": {},
   "outputs": [],
   "source": [
    "# generate random samples of a normal distribution with the mean, sigma and samples defined before.\n",
    "normal1_random = np.random.normal(mean_normal_univ, sigma_normal_univ, samples_normal_univ)"
   ]
  },
  {
   "cell_type": "code",
   "execution_count": null,
   "metadata": {},
   "outputs": [],
   "source": [
    "# check the dimensions of the python variable \"normal1\"\n",
    "np.shape(normal1_random)"
   ]
  },
  {
   "cell_type": "code",
   "execution_count": null,
   "metadata": {},
   "outputs": [],
   "source": [
    "# try different values of bins to see how changes the density estimation by an histogram\n",
    "bins1 = 50"
   ]
  },
  {
   "cell_type": "code",
   "execution_count": null,
   "metadata": {},
   "outputs": [],
   "source": [
    "# plot normed histogram to visualize the generated samples\n",
    "plt.hist(normal1_random, normed=True, bins = bins1)\n",
    "plt.show()"
   ]
  },
  {
   "cell_type": "code",
   "execution_count": null,
   "metadata": {},
   "outputs": [],
   "source": [
    "# resize the \"normal1_random\" variable to have 2 dimensions and transform it in a vector instead of a list.\n",
    "normal1_random = np.reshape(normal1_random, (normal1_random.shape[0],1))"
   ]
  },
  {
   "cell_type": "markdown",
   "metadata": {},
   "source": [
    "# Estimate with parzen window the values in the center x = 0"
   ]
  },
  {
   "cell_type": "code",
   "execution_count": null,
   "metadata": {},
   "outputs": [],
   "source": [
    "# size of the window \"h\"\n",
    "\n",
    "#### define size h #######\n",
    "h1 = 0.3\n",
    "#### define size h #######"
   ]
  },
  {
   "cell_type": "code",
   "execution_count": null,
   "metadata": {},
   "outputs": [],
   "source": [
    "# estimate the value on x = 0 using a parzen window estimator with hypercube\n",
    "parzen_window_est(normal1_random, h=h1, center = [0])"
   ]
  },
  {
   "cell_type": "code",
   "execution_count": null,
   "metadata": {},
   "outputs": [],
   "source": [
    "# use the function \"normal_pdf\" defined before to know the correct value in x = 0\n",
    "normal_pdf(0,0,1)"
   ]
  },
  {
   "cell_type": "code",
   "execution_count": null,
   "metadata": {},
   "outputs": [],
   "source": [
    "# import from scipy the stats package to build the gaussian kernel \"kde\"\n",
    "from scipy import stats\n",
    "from scipy.stats import kde"
   ]
  },
  {
   "cell_type": "code",
   "execution_count": null,
   "metadata": {},
   "outputs": [],
   "source": [
    "# estimate the density on the full dataset using the gaussian kernel. h1 is the size of the window\n",
    "density_normal1 = kde.gaussian_kde(normal1_random.T, bw_method=h1)"
   ]
  },
  {
   "cell_type": "code",
   "execution_count": null,
   "metadata": {},
   "outputs": [],
   "source": [
    "# evaluate the obtained density on x = 0\n",
    "density_normal1.evaluate(0)[0]"
   ]
  },
  {
   "cell_type": "code",
   "execution_count": null,
   "metadata": {},
   "outputs": [],
   "source": []
  },
  {
   "cell_type": "markdown",
   "metadata": {},
   "source": [
    "# Parzen estimation with 2 features"
   ]
  },
  {
   "cell_type": "code",
   "execution_count": null,
   "metadata": {},
   "outputs": [],
   "source": [
    "# size of the windows\n",
    "#### define size h #######\n",
    "h2 = 1\n",
    "#### define size h #######"
   ]
  },
  {
   "cell_type": "code",
   "execution_count": null,
   "metadata": {},
   "outputs": [],
   "source": [
    "# define parameters of class 0\n",
    "mu_vec0 = np.array([0,0])\n",
    "cov_mat0 = np.array([[1,0],[0,1]])"
   ]
  },
  {
   "cell_type": "code",
   "execution_count": null,
   "metadata": {},
   "outputs": [],
   "source": [
    "# Generate 200 random samples for class1\n",
    "x0_samples = np.random.multivariate_normal(mu_vec0, cov_mat0, 100)\n",
    "mu_vec0 = mu_vec0.reshape(1,2).T # to 1-col vector"
   ]
  },
  {
   "cell_type": "code",
   "execution_count": null,
   "metadata": {},
   "outputs": [],
   "source": [
    "# estimate the density on x=[0,0]\n",
    "parzen_window_est(x0_samples, h=h2, center = [1,1])"
   ]
  },
  {
   "cell_type": "code",
   "execution_count": null,
   "metadata": {},
   "outputs": [],
   "source": [
    "# estimate the real value in x=[0,0]\n",
    "pdf_multivariate_gauss(np.array([[1],[1]]),mu_vec0,cov_mat0 )"
   ]
  },
  {
   "cell_type": "code",
   "execution_count": null,
   "metadata": {},
   "outputs": [],
   "source": [
    "# estimate the real value in all the samples of \"x1_samples\" with a gaussian kernel by using the function \"kde\" imported before\n",
    "density_x0_samples = kde.gaussian_kde(x0_samples.T, bw_method=h2)"
   ]
  },
  {
   "cell_type": "code",
   "execution_count": null,
   "metadata": {},
   "outputs": [],
   "source": [
    "# evaluate the density with gaussian kernel on x=[0,0]\n",
    "density_x0_samples.evaluate([[0],[0]])"
   ]
  },
  {
   "cell_type": "markdown",
   "metadata": {
    "collapsed": true
   },
   "source": [
    "## Parzen window densitiy estimator: Exercise 01"
   ]
  },
  {
   "cell_type": "code",
   "execution_count": null,
   "metadata": {},
   "outputs": [],
   "source": [
    "####### code for exercise here #######\n",
    "\n",
    "\n",
    "####### code for exercise here #######"
   ]
  },
  {
   "cell_type": "markdown",
   "metadata": {},
   "source": [
    "## Parzen window densitiy estimator: Exercise 02"
   ]
  },
  {
   "cell_type": "code",
   "execution_count": null,
   "metadata": {},
   "outputs": [],
   "source": [
    "####### code for exercise here #######\n",
    "\n",
    "\n",
    "####### code for exercise here #######"
   ]
  },
  {
   "cell_type": "markdown",
   "metadata": {
    "collapsed": true
   },
   "source": [
    "# K Nearest Neighbors"
   ]
  },
  {
   "cell_type": "markdown",
   "metadata": {},
   "source": [
    "Here you have some tips on how to compute euclidean distances, make for an if statements:"
   ]
  },
  {
   "cell_type": "code",
   "execution_count": null,
   "metadata": {},
   "outputs": [],
   "source": [
    "# for euclidean distance you can use scipy \n",
    "from scipy.spatial import distance"
   ]
  },
  {
   "cell_type": "code",
   "execution_count": null,
   "metadata": {},
   "outputs": [],
   "source": [
    "# for example:\n",
    "a = [1, 2, 3]\n",
    "b = [4, 5, 6]\n",
    "distance.euclidean(a, b)"
   ]
  },
  {
   "cell_type": "code",
   "execution_count": null,
   "metadata": {},
   "outputs": [],
   "source": [
    "# how to do a for in python:\n",
    "for r in range(0,3):\n",
    "    print(r)"
   ]
  },
  {
   "cell_type": "code",
   "execution_count": null,
   "metadata": {},
   "outputs": [],
   "source": [
    "# how to do an if statement in python\n",
    "if distance.euclidean(a, b) > 6:\n",
    "    print(\"is huge\")\n",
    "else:\n",
    "    print(\"is low\")"
   ]
  },
  {
   "cell_type": "markdown",
   "metadata": {},
   "source": [
    "## KNN Exercise 03"
   ]
  },
  {
   "cell_type": "code",
   "execution_count": null,
   "metadata": {},
   "outputs": [],
   "source": [
    "####### code for exercise here #######\n",
    "\n",
    "\n",
    "####### code for exercise here #######"
   ]
  },
  {
   "cell_type": "markdown",
   "metadata": {},
   "source": [
    "## KNN Exercise 04"
   ]
  },
  {
   "cell_type": "code",
   "execution_count": null,
   "metadata": {},
   "outputs": [],
   "source": [
    "####### code for exercise here #######\n",
    "\n",
    "\n",
    "####### code for exercise here #######"
   ]
  },
  {
   "cell_type": "code",
   "execution_count": null,
   "metadata": {},
   "outputs": [],
   "source": []
  }
 ],
 "metadata": {
  "kernelspec": {
   "display_name": "Python 3",
   "language": "python",
   "name": "python3"
  },
  "language_info": {
   "codemirror_mode": {
    "name": "ipython",
    "version": 3
   },
   "file_extension": ".py",
   "mimetype": "text/x-python",
   "name": "python",
   "nbconvert_exporter": "python",
   "pygments_lexer": "ipython3",
   "version": "3.6.8"
  }
 },
 "nbformat": 4,
 "nbformat_minor": 2
}
